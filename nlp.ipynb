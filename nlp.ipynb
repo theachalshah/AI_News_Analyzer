{
 "cells": [
  {
   "cell_type": "code",
   "execution_count": 4,
   "metadata": {},
   "outputs": [],
   "source": [
    "import pathlib\n",
    "import textwrap\n",
    "import os\n",
    "import google.generativeai as genai\n",
    "\n",
    "from IPython.display import display\n",
    "from IPython.display import Markdown\n",
    "\n",
    "\n",
    "def to_markdown(text):\n",
    "  text = text.replace('•', '  *')\n",
    "  return Markdown(textwrap.indent(text, '> ', predicate=lambda _: True))"
   ]
  },
  {
   "cell_type": "code",
   "execution_count": 5,
   "metadata": {},
   "outputs": [],
   "source": [
    "GOOGLE_API_KEY=os.getenv('GOOGLE_API_KEY')\n",
    "\n",
    "genai.configure(api_key=GOOGLE_API_KEY)"
   ]
  },
  {
   "cell_type": "code",
   "execution_count": 7,
   "metadata": {},
   "outputs": [],
   "source": [
    "model = genai.GenerativeModel('gemini-pro')"
   ]
  },
  {
   "cell_type": "code",
   "execution_count": 10,
   "metadata": {},
   "outputs": [],
   "source": [
    "News = \"\"\"\"Just under half of likely Iowa GOP caucusgoers who support former U.N. Ambassador Nikki Haley indicated that they would make a crossover to the Democratic party, saying that they would rather vote for President Biden over former President Trump.\n",
    "\n",
    "A new NBC News/Des Moines Register/Mediacom poll released just one day before the Iowa caucuses found that 43 percent of Haley backers in the state said they would vote for Biden if Trump is the GOP nominee, while 23 percent say they would vote for the former president. Eight percent said they would vote for independent candidate Robert F. Kennedy Jr.\n",
    "\n",
    "Overall, 71 percent of likely GOP caucusgoers said they would vote for Trump in 2024, while only 11 percent said they would vote for Biden. “Haley is consolidating the anti-Trump vote,” J. Ann Selzer, a pollster who has conducted the Iowa survey over the last three decades, told NBC. “She does well with the people who define themselves as anti-Trump.”\n",
    "\n",
    "The poll also explored likely Iowa GOP caucusgoers’ view of Trump’s legal challenges. Overall, 74 percent said Trump can win a general election despite his legal challenges, while 23 percent said it’s nearly impossible for him to win against Biden. Among Haley’s supporters, 54 percent said the former president wouldn’t be able to win, while 42 percent said they believe he could.\n",
    "\n",
    "The NBC News/Des Moines Register/Mediacom poll was conducted Jan. 7-12 with 705 likely Republican Iowa caucusgoers. The poll has an overall margin of error of plus or minus 3.7 percentage points. \"\"\""
   ]
  },
  {
   "cell_type": "code",
   "execution_count": 11,
   "metadata": {},
   "outputs": [],
   "source": [
    "prompt = f\"\"\" You are a news analyst and your job is to make people aware of political spectrum of the news. \n",
    "\n",
    "Classify the news delimited by triple backticks based on political spectrum(Far left, Moderate Left, Centre Left, Centre, Centre Right, Moderate Right or Far Right) and also summarize the conslusions\\\n",
    "for the choice of political spectrum.\n",
    "News: ```{News}```\n",
    "\"\"\""
   ]
  },
  {
   "cell_type": "code",
   "execution_count": 12,
   "metadata": {},
   "outputs": [],
   "source": [
    "response = model.generate_content(prompt)"
   ]
  },
  {
   "cell_type": "code",
   "execution_count": 13,
   "metadata": {},
   "outputs": [
    {
     "data": {
      "text/markdown": [
       "> Political Spectrum: Moderate Right\n",
       "> \n",
       "> Conclusions:\n",
       "> \n",
       "> 1. The news reports on a poll conducted in Iowa, a key state in the US presidential election process.\n",
       "> \n",
       "> 2. The poll focuses on the potential crossover of Republican voters to the Democratic party if former President Trump becomes the GOP nominee.\n",
       "> \n",
       "> 3. A significant portion (43%) of supporters of former UN Ambassador Nikki Haley, a Republican candidate, indicated their willingness to vote for President Biden over Trump in a potential general election.\n",
       "> \n",
       "> 4. Haley appears to be consolidating the anti-Trump vote within the Republican party.\n",
       "> \n",
       "> 5. The poll also explores the views of Iowa GOP caucusgoers on Trump's legal challenges, with a majority (74%) expressing confidence in his ability to win a general election despite those challenges.\n",
       "> \n",
       "> 6. Among Haley's supporters, there is a split opinion on Trump's electability, with 54% believing he cannot win against Biden, while 42% believe he can.\n",
       "> \n",
       "> 7. The poll suggests a potential divide within the Republican party, with some voters willing to cross over to the Democratic side if Trump is the nominee."
      ],
      "text/plain": [
       "<IPython.core.display.Markdown object>"
      ]
     },
     "execution_count": 13,
     "metadata": {},
     "output_type": "execute_result"
    }
   ],
   "source": [
    "to_markdown(response.text)"
   ]
  },
  {
   "cell_type": "code",
   "execution_count": null,
   "metadata": {},
   "outputs": [],
   "source": []
  }
 ],
 "metadata": {
  "kernelspec": {
   "display_name": "courteasyai",
   "language": "python",
   "name": "python3"
  },
  "language_info": {
   "codemirror_mode": {
    "name": "ipython",
    "version": 3
   },
   "file_extension": ".py",
   "mimetype": "text/x-python",
   "name": "python",
   "nbconvert_exporter": "python",
   "pygments_lexer": "ipython3",
   "version": "3.12.1"
  }
 },
 "nbformat": 4,
 "nbformat_minor": 2
}
